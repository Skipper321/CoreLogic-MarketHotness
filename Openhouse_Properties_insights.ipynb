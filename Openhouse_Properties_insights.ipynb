{
 "cells": [
  {
   "cell_type": "markdown",
   "metadata": {},
   "source": [
    "## Market Hotness EDA insights \n",
    "\n",
    "### **Context:**\n",
    "\n",
    "Taking the dataset from discovery platform and ran query that joined the open house table with properties table. \n",
    "\n",
    "This assumes that the properties that **have had an open house**:\n",
    "- meaning a property that has a fair amount of interest to have guests enter and tour. (relatively desirable or marketed harder)\n",
    "\n",
    "Limited it to the first 100 properties (but may need to extract more) \n",
    "\n",
    "#### **Days on Market** will be our key feature of focus in determining if the market is hot. We will investigate this into other factors that could arise."
   ]
  },
  {
   "cell_type": "markdown",
   "metadata": {},
   "source": [
    "### **What defines a \"Hot property\"?**\n",
    "- A property that sells fast (days_on_market_replication is low)  \n",
    "- Sells at, or above listing (closeprice $\\geq$ originallistprice)\n",
    "- No need for price cuts to entice sales (previouslistprice is NA or close to original)\n",
    "- Possibly has had an open house (covered by this assumption)\n"
   ]
  },
  {
   "cell_type": "markdown",
   "metadata": {},
   "source": [
    "### **Preliminary Considerations:**\n",
    "\n",
    "Understanding context of missing data: instead of just missing value here = bad, realize it could mean that the listing was unsold (its a different category)\n",
    "\n",
    "Sequence of price changes (or drops): if previouslistprice exists, did it go up or down? Not all price changes are drops -> could be an increase in price indicating a desirable property. \n",
    "\n",
    "Urgency: Listings that sold within a short period of time without any price changes -> indicators of a hot, desirable, and relatively well priced listing. (Maybe patterns of these lead to indicators of a hot market) \n",
    "\n",
    "Price Standstill: Listings that barely moved in price could mean that the seller was inflexible (weak seller flexibility) or strong demand in market... Which one? (depends on further data analysis) \n",
    "\n"
   ]
  },
  {
   "cell_type": "markdown",
   "metadata": {},
   "source": [
    "### (In progress) **Looking at how price changes over time**\n",
    "\n",
    "Evaluating Price Stability:  \n",
    "Is currentprice the same as original_list_price? Did it sell quickly? \n",
    "\n",
    "Price Adjustments: \n",
    "If a listing has previouslistprice, did this change lead to a sale or not? (binary classifier?)\n",
    "\n",
    "Possible feature creation: \n",
    "price_changed = !is.na(previouslistprice) & compare its impact on daysonmarketreplication\n",
    "\n",
    "### Looking at the opposite of a hot market -> cold market and kind of find the inverse to better understsand the former.\n",
    "\n",
    "Example: \n",
    "\"Properties that had previous price adjustments took x times longer to sell - showing that price cuts often signal poor initial pricing or lack of demand\" \n",
    "\n"
   ]
  },
  {
   "cell_type": "markdown",
   "metadata": {},
   "source": [
    "Insert R code here: "
   ]
  },
  {
   "cell_type": "markdown",
   "metadata": {},
   "source": [
    "### (In Progress) **Analyzing Unsold Listings**\n",
    "\n",
    "Unsold listings may have probably been overpriced, stayed too long on market, or have had too many price changes. \n",
    "\n",
    "Comparing:  \n",
    "Original listing prices of unsold vs original listing prices of sold listings -> Could be possibly suggesting aggressive pricing deters buyers away. "
   ]
  },
  {
   "cell_type": "markdown",
   "metadata": {},
   "source": [
    "Insert R Code here: "
   ]
  },
  {
   "cell_type": "markdown",
   "metadata": {},
   "source": [
    "### (In Progress) **Market Momentum Metric**\n",
    "\n",
    "Study what drives fast sales of listing: \n",
    "- closeprice was above listing? \n",
    "- was there a pricedrop or not? \n",
    "- does having nopreviouslistprice correlate with a faster sale? (recent listing OR could be original owners)\n",
    "\n",
    "Potential feature creation: \n",
    "sold_quickly = daysonmarketreplication <= 7  \n",
    "\n",
    "Example: \n",
    "\"Homes that sold within the first week were rarely discounted and usually closed at or above the asking price\" "
   ]
  },
  {
   "cell_type": "markdown",
   "metadata": {},
   "source": [
    "Insert R Code here: "
   ]
  },
  {
   "cell_type": "markdown",
   "metadata": {},
   "source": [
    "### (In Progress) **Looking at duplicate listings**\n",
    "\n",
    "sample does already show duplicate listingkey's\n",
    "- could show multiple open house records per property OR \n",
    "- relisted properties \n",
    "\n",
    "#### Potential Idea: \n",
    "\n",
    "Group listings by listingkey to find which ones have multiple entries and this might help us understand which properties took multple tries to sell"
   ]
  },
  {
   "cell_type": "markdown",
   "metadata": {},
   "source": [
    "Insert R Code here: "
   ]
  },
  {
   "cell_type": "markdown",
   "metadata": {},
   "source": [
    "### (In Progress) **Overpricing Penalties** \n",
    "\n",
    "possible feature creation: \n",
    "overpriced = originallistprice > closeprice \n",
    "\n",
    "How overpricing can hurt \n",
    "- longer time on market \n",
    "- more price drops \n",
    "= selling below even previouslistingprice? \n",
    "\n",
    "Example: \"Homes that started overpriced lost money over time due to markdowns and longer listing durations\" "
   ]
  },
  {
   "cell_type": "markdown",
   "metadata": {},
   "source": [
    "Insert R Code here: "
   ]
  },
  {
   "cell_type": "markdown",
   "metadata": {},
   "source": [
    "### **General insight from 100 listings:**\n",
    "\n",
    "| Total Listings    | Sold Listings  | Listings with Price Change | Listings Sold Quickly   |   Listings Initially Overpriced (Sold)   | Unsold Listings |\n",
    "|------------|-----|------------|-------|---------|-------|\n",
    "| 100     | 76  | 30  | 9 | 36 | 24 |       \n"
   ]
  },
  {
   "cell_type": "markdown",
   "metadata": {},
   "source": [
    "#### Insights from EDA features:     \n",
    "\n",
    "**76 of 100** listings were successfully sold (based on closeprice being NA)  \n",
    "\n",
    "**30 listings** had a price change (most only had 1 previous price)\n",
    "\n",
    "**9 listings sold within a week** (quick sales are rare but highly valuable but could also indicate noise)\n",
    "\n",
    "**36 listings were intially overpriced** but then eventually sold (after longer market exposure or price drops)\n",
    "\n"
   ]
  }
 ],
 "metadata": {
  "language_info": {
   "name": "python"
  }
 },
 "nbformat": 4,
 "nbformat_minor": 2
}
